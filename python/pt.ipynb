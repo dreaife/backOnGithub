{
 "cells": [
  {
   "cell_type": "code",
   "execution_count": null,
   "metadata": {},
   "outputs": [],
   "source": [
    "import yfinance as yf\n",
    "import pandas as pd\n",
    "import matplotlib.pyplot as plt\n",
    "\n",
    "# 获取股票数据\n",
    "symbol = \"600519.SS\"\n",
    "start_date = \"2022-01-01\"\n",
    "end_date = \"2023-01-01\"\n",
    "\n",
    "data = yf.download(symbol, start=start_date, end=end_date)\n",
    "print(data.head())\n",
    "\n",
    "\n",
    "# 绘制股价走势图\n",
    "data['Close'].plot(figsize=(10, 6), label=symbol)\n",
    "plt.title(f\"{symbol} Stock Price\")\n",
    "plt.xlabel(\"Date\")\n",
    "plt.ylabel(\"Price\")\n",
    "plt.legend()\n",
    "plt.show()"
   ]
  },
  {
   "cell_type": "code",
   "execution_count": 8,
   "metadata": {},
   "outputs": [
    {
     "name": "stdout",
     "output_type": "stream",
     "text": [
      "[*********************100%%**********************]  1 of 1 completed\n",
      "策略表现:\n",
      "Total Return: -1.0047\n",
      "Annualized Return: nan\n",
      "Max Drawdown: -2.6306\n"
     ]
    },
    {
     "name": "stderr",
     "output_type": "stream",
     "text": [
      "/tmp/ipykernel_167355/2015455509.py:25: RuntimeWarning: invalid value encountered in scalar power\n",
      "  'Annualized Return': (data['Cumulative_Return'].iloc[-1] ** (252 / len(data))) - 1,\n"
     ]
    }
   ],
   "source": [
    "import yfinance as yf\n",
    "import pandas as pd\n",
    "import matplotlib.pyplot as plt\n",
    "\n",
    "# 获取股票数据\n",
    "symbol = \"600519.SS\"\n",
    "start_date = \"2021-01-01\"\n",
    "end_date = \"2023-01-01\"\n",
    "\n",
    "data = yf.download(symbol, start=start_date, end=end_date)\n",
    "\n",
    "data['SMA_50'] = data['Close'].rolling(window=50).mean()\n",
    "data['SMA_200'] = data['Close'].rolling(window=200).mean()\n",
    "\n",
    "data['Signal'] = 0\n",
    "\n",
    "data.loc[data['SMA_50'] > data['SMA_200'],'Signal'] = 1\n",
    "data.loc[data['SMA_50'] < data['SMA_200'],'Signal'] = -1\n",
    "\n",
    "data['Daily_Return'] = data['Close'].pct_change()\n",
    "data['Cumulative_Return'] = data['Signal'].shift(1) * data['Daily_Return']\n",
    "\n",
    "strategy_performance = {\n",
    "    'Total Return': data['Cumulative_Return'].iloc[-1] - 1,\n",
    "    'Annualized Return': (data['Cumulative_Return'].iloc[-1] ** (252 / len(data))) - 1,\n",
    "    'Max Drawdown': (data['Cumulative_Return'] / data['Cumulative_Return'].cummax() - 1).min(),\n",
    "}\n",
    "\n",
    "print(\"策略表现:\")\n",
    "for key, value in strategy_performance.items():\n",
    "    print(f\"{key}: {value:.4f}\")"
   ]
  }
 ],
 "metadata": {
  "kernelspec": {
   "display_name": "Python 3",
   "language": "python",
   "name": "python3"
  },
  "language_info": {
   "codemirror_mode": {
    "name": "ipython",
    "version": 3
   },
   "file_extension": ".py",
   "mimetype": "text/x-python",
   "name": "python",
   "nbconvert_exporter": "python",
   "pygments_lexer": "ipython3",
   "version": "3.8.10"
  }
 },
 "nbformat": 4,
 "nbformat_minor": 2
}
