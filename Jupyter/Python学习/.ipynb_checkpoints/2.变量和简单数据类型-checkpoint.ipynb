{
 "cells": [
  {
   "cell_type": "markdown",
   "id": "b4fc3965",
   "metadata": {},
   "source": [
    "# 2 变量和简单数据类型\n",
    "## 2.1 hello_world"
   ]
  },
  {
   "cell_type": "code",
   "execution_count": 40,
   "id": "47194ea4",
   "metadata": {},
   "outputs": [
    {
     "name": "stdout",
     "output_type": "stream",
     "text": [
      "hello world\n"
     ]
    }
   ],
   "source": [
    "print(\"hello world\")"
   ]
  },
  {
   "cell_type": "code",
   "execution_count": 41,
   "id": "82ad22d4",
   "metadata": {},
   "outputs": [
    {
     "name": "stdout",
     "output_type": "stream",
     "text": [
      "hello\n",
      "world\n",
      "from\n",
      "python\n"
     ]
    }
   ],
   "source": [
    "print('''hello\n",
    "world\n",
    "from\n",
    "python''')"
   ]
  },
  {
   "cell_type": "markdown",
   "id": "e38cdfa2",
   "metadata": {},
   "source": [
    "## 2.2 变量"
   ]
  },
  {
   "cell_type": "code",
   "execution_count": 42,
   "id": "dad62730",
   "metadata": {},
   "outputs": [
    {
     "name": "stdout",
     "output_type": "stream",
     "text": [
      "hello world\n"
     ]
    }
   ],
   "source": [
    "temp = \"hello world\"\n",
    "print(temp)"
   ]
  },
  {
   "cell_type": "code",
   "execution_count": 43,
   "id": "6b167c3d",
   "metadata": {},
   "outputs": [
    {
     "name": "stdout",
     "output_type": "stream",
     "text": [
      "hello\n",
      "world\n",
      "from\n",
      "python\n"
     ]
    }
   ],
   "source": [
    "temp = '''hello\n",
    "world\n",
    "from\n",
    "python'''\n",
    "print(temp)"
   ]
  },
  {
   "cell_type": "code",
   "execution_count": 44,
   "id": "b466056d",
   "metadata": {},
   "outputs": [
    {
     "name": "stdout",
     "output_type": "stream",
     "text": [
      "hello\n",
      "world\n",
      "from\n",
      "python\n",
      "冥契的牧神节\n"
     ]
    }
   ],
   "source": [
    "temp += '\\n冥契的牧神节'\n",
    "print(temp)"
   ]
  },
  {
   "cell_type": "markdown",
   "id": "65feefdd",
   "metadata": {},
   "source": [
    "***注意命名格式***\n",
    "\n",
    "### 2.2练习"
   ]
  },
  {
   "cell_type": "code",
   "execution_count": 45,
   "id": "aac27504",
   "metadata": {},
   "outputs": [
    {
     "name": "stdout",
     "output_type": "stream",
     "text": [
      "PRIMAL×HEARTS\n",
      "\n",
      "PRIMAL×HEARTS\n",
      "\n",
      "冥契的牧神节\n"
     ]
    }
   ],
   "source": [
    "temp = \"PRIMAL×HEARTS\\n\"\n",
    "print (temp)\n",
    "\n",
    "temp += \"\\n冥契的牧神节\"\n",
    "print(temp)"
   ]
  },
  {
   "cell_type": "markdown",
   "id": "eb26b50f",
   "metadata": {},
   "source": [
    "## 2.3 字符串"
   ]
  },
  {
   "cell_type": "code",
   "execution_count": 46,
   "id": "f03000a1",
   "metadata": {},
   "outputs": [
    {
     "name": "stdout",
     "output_type": "stream",
     "text": [
      "\n",
      " dreaife is the best over the world\n",
      "\n",
      " Dreaife Is The Best Over The World\n"
     ]
    }
   ],
   "source": [
    "name = \"dreaife is the best over the world\"\n",
    "print('\\n' ,name)\n",
    "print('\\n',name.title())"
   ]
  },
  {
   "cell_type": "code",
   "execution_count": 47,
   "id": "40075ea3",
   "metadata": {},
   "outputs": [
    {
     "name": "stdout",
     "output_type": "stream",
     "text": [
      "DREAIFE IS THE BEST OVER THE WORLD \n",
      "\n",
      "dreaife is the best over the world\n"
     ]
    }
   ],
   "source": [
    "name = name.title()\n",
    "\n",
    "print(name.upper(),'\\n')\n",
    "\n",
    "print(name.lower())"
   ]
  },
  {
   "cell_type": "code",
   "execution_count": 48,
   "id": "05bd2f45",
   "metadata": {},
   "outputs": [
    {
     "name": "stdout",
     "output_type": "stream",
     "text": [
      "Dreaife Is The Best Over The World\n"
     ]
    }
   ],
   "source": [
    "print(name.upper().lower().title())"
   ]
  },
  {
   "cell_type": "code",
   "execution_count": 49,
   "id": "a3e7df19",
   "metadata": {},
   "outputs": [
    {
     "name": "stdout",
     "output_type": "stream",
     "text": [
      "Dreaife Is The Best Over The World\n",
      "shinku\n"
     ]
    }
   ],
   "source": [
    "name+=\"\\nshinku\"\n",
    "print(name)"
   ]
  },
  {
   "cell_type": "code",
   "execution_count": 51,
   "id": "95ee67a4",
   "metadata": {},
   "outputs": [
    {
     "name": "stdout",
     "output_type": "stream",
     "text": [
      "Hello,Shinku!\n"
     ]
    }
   ],
   "source": [
    "name = \"shinku\"\n",
    "mess = \"hello,\" + name +\"!\"\n",
    "print(mess.title())"
   ]
  },
  {
   "cell_type": "code",
   "execution_count": 53,
   "id": "d2c22504",
   "metadata": {},
   "outputs": [
    {
     "name": "stdout",
     "output_type": "stream",
     "text": [
      "\tshinku\tShinku\n"
     ]
    }
   ],
   "source": [
    "mess=\"\\t\"+name+\"\\t\"+name.title()\n",
    "print(mess)"
   ]
  },
  {
   "cell_type": "code",
   "execution_count": 54,
   "id": "fd451a32",
   "metadata": {},
   "outputs": [
    {
     "name": "stdout",
     "output_type": "stream",
     "text": [
      "\tname\n",
      "\tName\n",
      "\tNAME\n"
     ]
    }
   ],
   "source": [
    "print(\"\\tname\\n\\tName\\n\\tNAME\")"
   ]
  },
  {
   "cell_type": "code",
   "execution_count": 62,
   "id": "46d43d59",
   "metadata": {},
   "outputs": [
    {
     "name": "stdout",
     "output_type": "stream",
     "text": [
      "shinku  \n",
      "\n",
      " shinku \n"
     ]
    },
    {
     "data": {
      "text/plain": [
       "' shinku'"
      ]
     },
     "execution_count": 62,
     "metadata": {},
     "output_type": "execute_result"
    }
   ],
   "source": [
    "name = \"shinku\"\n",
    "name+=' '\n",
    "print(name,'\\n')\n",
    "name=' '+name\n",
    "print(name)\n",
    "name.rstrip()"
   ]
  },
  {
   "cell_type": "code",
   "execution_count": 67,
   "id": "17e1e673",
   "metadata": {},
   "outputs": [
    {
     "data": {
      "text/plain": [
       "'SHINKU'"
      ]
     },
     "execution_count": 67,
     "metadata": {},
     "output_type": "execute_result"
    }
   ],
   "source": [
    "name=name.rstrip().upper()\n",
    "name.strip()"
   ]
  },
  {
   "cell_type": "markdown",
   "id": "722ed47c",
   "metadata": {},
   "source": [
    "***strip()对字符串的修改是暂时的                \n",
    "即使是strip().strip()调用其结果也与strip()调用一样         \n",
    "不过当strip().title()时修改是可以保留的***"
   ]
  },
  {
   "cell_type": "code",
   "execution_count": 76,
   "id": "e0f25df1",
   "metadata": {},
   "outputs": [
    {
     "name": "stdout",
     "output_type": "stream",
     "text": [
      " shinku \n"
     ]
    }
   ],
   "source": [
    "name = \" shinku \"\n",
    "name.lstrip()\n",
    "name.lstrip().rstrip()\n",
    "print(name)"
   ]
  },
  {
   "cell_type": "markdown",
   "id": "967a7bf1",
   "metadata": {},
   "source": [
    "***事实证明当lstrip跟rstrip是可以叠加使用的www            \n",
    "而且也是暂时修改***\n",
    "## >_<"
   ]
  },
  {
   "cell_type": "code",
   "execution_count": 78,
   "id": "99f18bb3",
   "metadata": {},
   "outputs": [
    {
     "name": "stdout",
     "output_type": "stream",
     "text": [
      "dreaife's smart is world level\n"
     ]
    }
   ],
   "source": [
    "mess = \"dreaife's smart is world level\"\n",
    "print(mess)"
   ]
  },
  {
   "cell_type": "markdown",
   "id": "6be49795",
   "metadata": {},
   "source": [
    "## 2.4 数字"
   ]
  },
  {
   "cell_type": "code",
   "execution_count": 79,
   "id": "8c5bccd3",
   "metadata": {},
   "outputs": [
    {
     "data": {
      "text/plain": [
       "5"
      ]
     },
     "execution_count": 79,
     "metadata": {},
     "output_type": "execute_result"
    }
   ],
   "source": [
    "2+3"
   ]
  },
  {
   "cell_type": "code",
   "execution_count": 80,
   "id": "c0f38323",
   "metadata": {},
   "outputs": [
    {
     "data": {
      "text/plain": [
       "-1"
      ]
     },
     "execution_count": 80,
     "metadata": {},
     "output_type": "execute_result"
    }
   ],
   "source": [
    "2-3"
   ]
  },
  {
   "cell_type": "code",
   "execution_count": 81,
   "id": "cbfab261",
   "metadata": {},
   "outputs": [
    {
     "data": {
      "text/plain": [
       "6"
      ]
     },
     "execution_count": 81,
     "metadata": {},
     "output_type": "execute_result"
    }
   ],
   "source": [
    "2*3"
   ]
  },
  {
   "cell_type": "code",
   "execution_count": 82,
   "id": "4c3b5024",
   "metadata": {},
   "outputs": [
    {
     "data": {
      "text/plain": [
       "0.6666666666666666"
      ]
     },
     "execution_count": 82,
     "metadata": {},
     "output_type": "execute_result"
    }
   ],
   "source": [
    "2/3"
   ]
  },
  {
   "cell_type": "code",
   "execution_count": 83,
   "id": "c0878c1a",
   "metadata": {},
   "outputs": [
    {
     "data": {
      "text/plain": [
       "1.5"
      ]
     },
     "execution_count": 83,
     "metadata": {},
     "output_type": "execute_result"
    }
   ],
   "source": [
    "3/2"
   ]
  },
  {
   "cell_type": "code",
   "execution_count": 84,
   "id": "aa63d94d",
   "metadata": {},
   "outputs": [
    {
     "data": {
      "text/plain": [
       "1024"
      ]
     },
     "execution_count": 84,
     "metadata": {},
     "output_type": "execute_result"
    }
   ],
   "source": [
    "2**10"
   ]
  },
  {
   "cell_type": "code",
   "execution_count": 85,
   "id": "e4890be5",
   "metadata": {},
   "outputs": [
    {
     "data": {
      "text/plain": [
       "25"
      ]
     },
     "execution_count": 85,
     "metadata": {},
     "output_type": "execute_result"
    }
   ],
   "source": [
    "(2+3)*5"
   ]
  },
  {
   "cell_type": "code",
   "execution_count": 86,
   "id": "3eee5365",
   "metadata": {},
   "outputs": [
    {
     "data": {
      "text/plain": [
       "125"
      ]
     },
     "execution_count": 86,
     "metadata": {},
     "output_type": "execute_result"
    }
   ],
   "source": [
    "(2+3)**3"
   ]
  },
  {
   "cell_type": "code",
   "execution_count": 87,
   "id": "c0aa6516",
   "metadata": {},
   "outputs": [
    {
     "data": {
      "text/plain": [
       "0.30000000000000004"
      ]
     },
     "execution_count": 87,
     "metadata": {},
     "output_type": "execute_result"
    }
   ],
   "source": [
    "3*0.1"
   ]
  },
  {
   "cell_type": "code",
   "execution_count": 88,
   "id": "9895edc7",
   "metadata": {},
   "outputs": [
    {
     "data": {
      "text/plain": [
       "0.1"
      ]
     },
     "execution_count": 88,
     "metadata": {},
     "output_type": "execute_result"
    }
   ],
   "source": [
    "0.1"
   ]
  },
  {
   "cell_type": "code",
   "execution_count": 89,
   "id": "b7fd192c",
   "metadata": {},
   "outputs": [
    {
     "data": {
      "text/plain": [
       "0.6000000000000001"
      ]
     },
     "execution_count": 89,
     "metadata": {},
     "output_type": "execute_result"
    }
   ],
   "source": [
    "3*0.2"
   ]
  },
  {
   "cell_type": "code",
   "execution_count": 91,
   "id": "d7960b05",
   "metadata": {},
   "outputs": [
    {
     "data": {
      "text/plain": [
       "0.4"
      ]
     },
     "execution_count": 91,
     "metadata": {},
     "output_type": "execute_result"
    }
   ],
   "source": [
    "0.2+0.2"
   ]
  },
  {
   "cell_type": "code",
   "execution_count": 94,
   "id": "cbc027ff",
   "metadata": {},
   "outputs": [
    {
     "name": "stdout",
     "output_type": "stream",
     "text": [
      "happy 14th birthday ,RINNE!\n"
     ]
    }
   ],
   "source": [
    "age = 14\n",
    "mess = \"happy \" +str(age) + \"th birthday ,RINNE!\"\n",
    "print(mess)"
   ]
  },
  {
   "cell_type": "markdown",
   "id": "5608656f",
   "metadata": {},
   "source": [
    "***对于int与string组合时，记得用str()先处理一下int***"
   ]
  },
  {
   "cell_type": "code",
   "execution_count": 95,
   "id": "e4b041f2",
   "metadata": {},
   "outputs": [
    {
     "name": "stdout",
     "output_type": "stream",
     "text": [
      "25\n"
     ]
    }
   ],
   "source": [
    "print(5**2)"
   ]
  },
  {
   "cell_type": "markdown",
   "id": "e1b8c1be",
   "metadata": {},
   "source": [
    "## 2.5 注释"
   ]
  },
  {
   "cell_type": "code",
   "execution_count": 96,
   "id": "369d7bdd",
   "metadata": {},
   "outputs": [
    {
     "name": "stdout",
     "output_type": "stream",
     "text": [
      "shinku daisuki\n"
     ]
    }
   ],
   "source": [
    "#这是一条注释\n",
    "print(\"shinku daisuki\")"
   ]
  },
  {
   "cell_type": "code",
   "execution_count": 97,
   "id": "3d1c6916",
   "metadata": {},
   "outputs": [],
   "source": [
    "#author:dreaife\n",
    "#date:8/28/2021"
   ]
  },
  {
   "cell_type": "markdown",
   "id": "69e02bd0",
   "metadata": {},
   "source": [
    "## The Zen of Python"
   ]
  },
  {
   "cell_type": "code",
   "execution_count": 98,
   "id": "25aec741",
   "metadata": {},
   "outputs": [
    {
     "name": "stdout",
     "output_type": "stream",
     "text": [
      "The Zen of Python, by Tim Peters\n",
      "\n",
      "Beautiful is better than ugly.\n",
      "Explicit is better than implicit.\n",
      "Simple is better than complex.\n",
      "Complex is better than complicated.\n",
      "Flat is better than nested.\n",
      "Sparse is better than dense.\n",
      "Readability counts.\n",
      "Special cases aren't special enough to break the rules.\n",
      "Although practicality beats purity.\n",
      "Errors should never pass silently.\n",
      "Unless explicitly silenced.\n",
      "In the face of ambiguity, refuse the temptation to guess.\n",
      "There should be one-- and preferably only one --obvious way to do it.\n",
      "Although that way may not be obvious at first unless you're Dutch.\n",
      "Now is better than never.\n",
      "Although never is often better than *right* now.\n",
      "If the implementation is hard to explain, it's a bad idea.\n",
      "If the implementation is easy to explain, it may be a good idea.\n",
      "Namespaces are one honking great idea -- let's do more of those!\n"
     ]
    }
   ],
   "source": [
    "import this"
   ]
  },
  {
   "cell_type": "markdown",
   "id": "aeb5a6ad",
   "metadata": {},
   "source": [
    "# Learning Time For Chapter 2 : 1h15min"
   ]
  },
  {
   "cell_type": "code",
   "execution_count": null,
   "id": "3f3ec9d5",
   "metadata": {},
   "outputs": [],
   "source": []
  }
 ],
 "metadata": {
  "kernelspec": {
   "display_name": "Python 3",
   "language": "python",
   "name": "python3"
  },
  "language_info": {
   "codemirror_mode": {
    "name": "ipython",
    "version": 3
   },
   "file_extension": ".py",
   "mimetype": "text/x-python",
   "name": "python",
   "nbconvert_exporter": "python",
   "pygments_lexer": "ipython3",
   "version": "3.8.8"
  }
 },
 "nbformat": 4,
 "nbformat_minor": 5
}
