{
 "cells": [
  {
   "cell_type": "markdown",
   "id": "a7485abc",
   "metadata": {},
   "source": [
    "# 第三章 列表简介\n",
    "\n",
    "## 3.1 列表"
   ]
  },
  {
   "cell_type": "code",
   "execution_count": 5,
   "id": "a8a11cac",
   "metadata": {},
   "outputs": [
    {
     "name": "stdout",
     "output_type": "stream",
     "text": [
      "['trck', 'cannodale', 'redline', 'spacelized', ['trck', 'cannodale', 'redline', 'spacelized']]\n"
     ]
    }
   ],
   "source": [
    "bicycles = ['trck','cannodale','redline','spacelized']\n",
    "bicycles = ['trck','cannodale','redline','spacelized',bicycles]#可以将任何东西加入列表\n",
    "print(bicycles)"
   ]
  },
  {
   "cell_type": "code",
   "execution_count": 11,
   "id": "56b0add2",
   "metadata": {},
   "outputs": [
    {
     "name": "stdout",
     "output_type": "stream",
     "text": [
      "Cannodale\n",
      "Spacelized\n"
     ]
    }
   ],
   "source": [
    "print(bicycles[1].title())\n",
    "print(bicycles[-1][-1].title())"
   ]
  },
  {
   "cell_type": "markdown",
   "id": "1bb34a09",
   "metadata": {},
   "source": [
    "**list列表索引从0开始，对于<font color=red>最后一个元素</font>可以使用索引-1**\n",
    "\n",
    "**而对于-2 -3这些跟-1一样，代表倒数第二第三**"
   ]
  },
  {
   "cell_type": "code",
   "execution_count": 23,
   "id": "b453f319",
   "metadata": {},
   "outputs": [
    {
     "name": "stdout",
     "output_type": "stream",
     "text": [
      "To buy one bycile's trck,I need to cost 100!\n",
      "To buy one bycile's cannodale,I need to cost 300!\n",
      "To buy one bycile's redline,I need to cost 1000!\n",
      "To buy one bycile's spacelized,I need to cost 5000!\n"
     ]
    }
   ],
   "source": [
    "# list拼接\n",
    "bicycles = ['trck','cannodale','redline','spacelized']\n",
    "cost = [100,300,1000,5000]\n",
    "for i in range(0,4):\n",
    "    mess = \"To buy one bycile's \" + bicycles[i] +\",I need to cost \" + str(cost[i]) + \"!\"\n",
    "    print(mess)"
   ]
  },
  {
   "cell_type": "markdown",
   "id": "8aa33141",
   "metadata": {},
   "source": [
    "**对于在list中的int 跟 string 的元素仍然需要将int经过<font color=red>str()</font>处理**\n",
    "\n",
    "## 3.2 增删改list元素"
   ]
  },
  {
   "cell_type": "code",
   "execution_count": 26,
   "id": "05b01301",
   "metadata": {},
   "outputs": [
    {
     "name": "stdout",
     "output_type": "stream",
     "text": [
      "['trck', 'cannodale', 'baka', 'spacelized', 'really?']\n",
      "['trck', 'cannodale', 'baka', 'spacelized', 'really?']\n"
     ]
    }
   ],
   "source": [
    "# 修改元素\n",
    "print(bicycles)\n",
    "\n",
    "bicycles[2]='baka'\n",
    "\n",
    "print(bicycles)"
   ]
  },
  {
   "cell_type": "code",
   "execution_count": 59,
   "id": "8593af0d",
   "metadata": {},
   "outputs": [
    {
     "name": "stdout",
     "output_type": "stream",
     "text": [
      "['trck', 'cannodale', 'baka', 'spacelized', 'really?', 'really?', 'really?', 'really?', 'really?', 'really?', 'really?', 'really?', 'really?', 'really?', 'really?', 'really?', 'really?', 'really?', 'really?', 'really?', 'really?', 'really?', 'really?', 'really?', 'really?', 'really?', 'really?']\n",
      "['dreaife level:0']\n",
      "['dreaife level:0', 'dreaife level:1']\n",
      "['dreaife level:0', 'dreaife level:1', 'dreaife level:2']\n",
      "['dreaife level:0', 'dreaife level:1', 'dreaife level:2', 'dreaife level:3']\n",
      "['dreaife level:0', 'dreaife level:1', 'dreaife level:2', 'dreaife level:3', 'dreaife level:4']\n",
      "['dreaife level:0', 'dreaife level:1', 'dreaife level:2', 'dreaife level:3', 'dreaife level:4']\n",
      "['dreaife', 'dreaife level:0', 'dreaife level:1', 'dreaife level:2', 'dreaife level:3', 'dreaife level:4']\n"
     ]
    }
   ],
   "source": [
    "# 添加元素\n",
    "bicycles.append('really?')# 尾\n",
    "#bicycles.append('really?').append('true!')\n",
    "# 错误示范www\n",
    "# 看样子对于append()还不能往后叠加XD\n",
    "print(bicycles)\n",
    "\n",
    "irotori = []# 空列表添加\n",
    "#irotori.append('dreaife')\n",
    "# irotori = irotori.apppend('dreaife')  错误示范！！！\n",
    "for i in range(0,5):\n",
    "    irotori.append('dreaife level:'+str(i))\n",
    "    print(irotori)\n",
    "    \n",
    "# 列表中添加元素\n",
    "print(irotori)\n",
    "irotori.insert(0,'dreaife') # 通过insert()函数可以任意位置插入，将选择元素插入指定位置p，而[p,-1]的元素则向后移动一位\n",
    "#irotori.insert(0,'1').insert(0,'2') 看样子insert也不能叠加使用\n",
    "print(irotori)"
   ]
  },
  {
   "cell_type": "code",
   "execution_count": 54,
   "id": "113f527e",
   "metadata": {},
   "outputs": [
    {
     "name": "stdout",
     "output_type": "stream",
     "text": [
      "['dreaife level:0', 'dreaife level:1', 'dreaife level:2', 'dreaife level:3', 'dreaife level:4']\n",
      "dreaife level:4\n",
      "dreaife level:3\n",
      "['dreaife level:0', 'dreaife level:1', 'dreaife level:2']\n",
      "['dreaife level:0', 'dreaife level:2', 'dreaife level:1']\n"
     ]
    }
   ],
   "source": [
    "# 删除元素\n",
    "del irotori[0]# 删除任意元素\n",
    "print(irotori)\n",
    "\n",
    "print(irotori.pop()) #删除最后一位元素，并获取该元素 **push()**\n",
    "print(irotori.pop(3)) #删除第i位元素，并获取 **push(i)**\n",
    "print(irotori)\n",
    "\n",
    "irotori.insert(3,'dreaife level:1')\n",
    "irotori.remove('dreaife level:1')#remove同样不能叠加使用，同时对于相同元素只能删除索引靠前的一个元素\n",
    "print(irotori)"
   ]
  },
  {
   "cell_type": "code",
   "execution_count": 58,
   "id": "e3c5f1ea",
   "metadata": {},
   "outputs": [
    {
     "data": {
      "text/plain": [
       "3"
      ]
     },
     "execution_count": 58,
     "metadata": {},
     "output_type": "execute_result"
    }
   ],
   "source": [
    "len(irotori)# 获取list元素个数"
   ]
  },
  {
   "cell_type": "markdown",
   "id": "148b71a7",
   "metadata": {},
   "source": [
    "## 3.3 组织列表"
   ]
  },
  {
   "cell_type": "code",
   "execution_count": 69,
   "id": "97ebe6cf",
   "metadata": {},
   "outputs": [
    {
     "name": "stdout",
     "output_type": "stream",
     "text": [
      "['dreaife', 'dreaife level:0', 'dreaife level:1', 'dreaife level:2', 'dreaife level:3', 'dreaife level:4']\n",
      "['dreaife level:4', 'dreaife level:3', 'dreaife level:2', 'dreaife level:1', 'dreaife level:0', 'dreaife']\n",
      "['dreaife', 'dreaife level:0', 'dreaife level:1', 'dreaife level:2', 'dreaife level:3', 'dreaife level:4']\n",
      "['dreaife level:4', 'dreaife level:3', 'dreaife level:2', 'dreaife level:1', 'dreaife level:0', 'dreaife']\n",
      "['dreaife level:4', 'dreaife level:3', 'dreaife level:2', 'dreaife level:1', 'dreaife level:0', 'dreaife']\n",
      "['dreaife level:4', 'dreaife level:3', 'dreaife level:2', 'dreaife level:1', 'dreaife level:0', 'dreaife']\n"
     ]
    }
   ],
   "source": [
    "irotori.sort()#正序排序\n",
    "print(irotori)\n",
    "\n",
    "irotori.sort(reverse=True)#逆序排序\n",
    "print(irotori)\n",
    "\n",
    "print(sorted(irotori))#获取一个Temp的排序\n",
    "print(irotori)\n",
    "\n",
    "print(sorted(irotori,reverse=True))#获取一个Temp的排序\n",
    "print(irotori)"
   ]
  },
  {
   "cell_type": "code",
   "execution_count": 68,
   "id": "d50ae52e",
   "metadata": {},
   "outputs": [
    {
     "name": "stdout",
     "output_type": "stream",
     "text": [
      "['dreaife level:4', 'dreaife level:3', 'dreaife level:2', 'dreaife level:1', 'dreaife level:0', 'dreaife']\n",
      "['dreaife', 'dreaife level:0', 'dreaife level:1', 'dreaife level:2', 'dreaife level:3', 'dreaife level:4']\n",
      "6\n"
     ]
    }
   ],
   "source": [
    "irotori.reverse()\n",
    "print(irotori)\n",
    "#print(irotori.reverse()) !!!错误示范 不能在print内调用\n",
    "irotori.reverse()\n",
    "print(irotori)\n",
    "\n",
    "print(len(irotori))"
   ]
  },
  {
   "cell_type": "markdown",
   "id": "72bfcb95",
   "metadata": {},
   "source": [
    "## 3.4 避免索引错误\n",
    "**数组越界**\n",
    "\n",
    "    ep:当list为空时[-1]同样会出现错误"
   ]
  },
  {
   "cell_type": "markdown",
   "id": "084d3553",
   "metadata": {},
   "source": [
    "## Time:8/30/2021 18:50\n",
    "## Time use:1h20min"
   ]
  },
  {
   "cell_type": "code",
   "execution_count": null,
   "id": "0ac6c939",
   "metadata": {},
   "outputs": [],
   "source": []
  }
 ],
 "metadata": {
  "kernelspec": {
   "display_name": "Python 3",
   "language": "python",
   "name": "python3"
  },
  "language_info": {
   "codemirror_mode": {
    "name": "ipython",
    "version": 3
   },
   "file_extension": ".py",
   "mimetype": "text/x-python",
   "name": "python",
   "nbconvert_exporter": "python",
   "pygments_lexer": "ipython3",
   "version": "3.8.8"
  }
 },
 "nbformat": 4,
 "nbformat_minor": 5
}
