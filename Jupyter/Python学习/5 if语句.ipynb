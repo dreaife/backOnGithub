{
 "cells": [
  {
   "cell_type": "markdown",
   "source": [
    "# 5 if语句\r\n",
    "## 5.1 示例\r\n",
    "*学习时间：9/2/2021 21:45*"
   ],
   "metadata": {}
  },
  {
   "cell_type": "code",
   "execution_count": 5,
   "source": [
    "cars = ['audi','bmw','subaru','toyota']\r\n",
    "\r\n",
    "for car in cars:\r\n",
    "    if car == 'audi':\r\n",
    "        print(car.upper()+\" is great!\")\r\n",
    "    else : print(car.title())"
   ],
   "outputs": [
    {
     "output_type": "stream",
     "name": "stdout",
     "text": [
      "AUDI is great!\n",
      "Bmw\n",
      "Subaru\n",
      "Toyota\n"
     ]
    }
   ],
   "metadata": {}
  },
  {
   "cell_type": "markdown",
   "source": [
    "## 5.2 条件测试"
   ],
   "metadata": {}
  },
  {
   "cell_type": "code",
   "execution_count": 7,
   "source": [
    "car = 'bmw'\r\n",
    "car == 'bmw'#测试相等\r\n",
    "car == 'audi'\r\n",
    "\r\n",
    "car == 'Bmw'#测试大小写\r\n",
    "car.title() == 'Bmw'\r\n",
    "\r\n",
    "if car != 'audi' :#测试不相等\r\n",
    "    print(\"This is not true Audi!\")\r\n",
    "#!!!有时不等的效率比等于高!!!\r\n",
    "\r\n",
    "#对于数值\r\n",
    "age = 18\r\n",
    "age == 18\r\n",
    "\r\n",
    "\r\n"
   ],
   "outputs": [
    {
     "output_type": "stream",
     "name": "stdout",
     "text": [
      "This is not true Audi!\n"
     ]
    },
    {
     "output_type": "execute_result",
     "data": {
      "text/plain": [
       "True"
      ]
     },
     "metadata": {},
     "execution_count": 7
    }
   ],
   "metadata": {}
  },
  {
   "cell_type": "code",
   "execution_count": 24,
   "source": [
    "#多重条件\r\n",
    "if car == 'Audi' and age >= 18 and age <= 25:\r\n",
    "    print(\"That's all right!\")\r\n",
    "else :\r\n",
    "    print(\"NO!!!\")\r\n",
    "\r\n",
    "if car == 'Audi' or age>=18:\r\n",
    "    print(\"That can be right!\")\r\n"
   ],
   "outputs": [
    {
     "output_type": "stream",
     "name": "stdout",
     "text": [
      "NO!!!\n",
      "That can be right!\n"
     ]
    }
   ],
   "metadata": {}
  },
  {
   "cell_type": "code",
   "execution_count": 15,
   "source": [
    "#判断特定值\r\n",
    "car in cars\r\n",
    "\r\n",
    "car.title() not in cars"
   ],
   "outputs": [
    {
     "output_type": "execute_result",
     "data": {
      "text/plain": [
       "True"
      ]
     },
     "metadata": {},
     "execution_count": 15
    }
   ],
   "metadata": {}
  },
  {
   "cell_type": "code",
   "execution_count": 16,
   "source": [
    "# bool型\r\n",
    "#!!!注意首字母大写！！！\r\n",
    "# ! False | True !\r\n",
    "\r\n",
    "game_active = True\r\n",
    "\r\n",
    "can_edit = False"
   ],
   "outputs": [],
   "metadata": {}
  },
  {
   "cell_type": "markdown",
   "source": [
    "## 5.3 if语句"
   ],
   "metadata": {}
  },
  {
   "cell_type": "code",
   "execution_count": 25,
   "source": [
    "# if conditional_test:\r\n",
    "#   do something\r\n",
    "\r\n",
    "age = 19\r\n",
    "if(age>=18 and age<=20): print(\"you can vote for everyone!\");"
   ],
   "outputs": [
    {
     "output_type": "stream",
     "name": "stdout",
     "text": [
      "you can vote for everyone!\n"
     ]
    }
   ],
   "metadata": {}
  },
  {
   "cell_type": "code",
   "execution_count": 28,
   "source": [
    "age-=1#Python中没有自加自减\r\n",
    "if age > 18 :\r\n",
    "    print(\"you can vote for everyone!\") \r\n",
    "else :\r\n",
    "    print(\"No!You can't!\")"
   ],
   "outputs": [
    {
     "output_type": "stream",
     "name": "stdout",
     "text": [
      "No!You can't!\n"
     ]
    }
   ],
   "metadata": {}
  },
  {
   "cell_type": "code",
   "execution_count": 29,
   "source": [
    "#if-elif-else:\r\n",
    "if age > 18 :\r\n",
    "    print(\"you can vote for everyone!\") \r\n",
    "elif age == 18:\r\n",
    "    print(\"Maybe you can wait one year.\")\r\n",
    "else :\r\n",
    "    print(\"No!You can't!\")"
   ],
   "outputs": [
    {
     "output_type": "stream",
     "name": "stdout",
     "text": [
      "Maybe you can wait one year.\n"
     ]
    }
   ],
   "metadata": {}
  },
  {
   "cell_type": "markdown",
   "source": [
    "## 5.4 用if语句处理list"
   ],
   "metadata": {}
  },
  {
   "cell_type": "code",
   "execution_count": 32,
   "source": [
    "reqs = ['mushrooms','green peppers','extra cheese']\r\n",
    "\r\n",
    "if reqs:\r\n",
    "    for req in reqs:\r\n",
    "        if req == 'green peppers':\r\n",
    "            print(\"sorry,the green peppers are out now!\")\r\n",
    "        else : print(\"Adding \"+req.title()+'.')\r\n",
    "else:\r\n",
    "    print(\"We'll make a plain pizza.\")\r\n",
    "\r\n",
    "print(\"\\nFinished making your pizza!\")"
   ],
   "outputs": [
    {
     "output_type": "stream",
     "name": "stdout",
     "text": [
      "Adding Mushrooms.\n",
      "sorry,the green peppers are out now!\n",
      "Adding Extra Cheese.\n",
      "\n",
      "Finished making your pizza!\n"
     ]
    }
   ],
   "metadata": {}
  },
  {
   "cell_type": "markdown",
   "source": [
    "## 5.5 if格式\r\n",
    "***在判断符左右保留空格***\r\n",
    "\r\n",
    "# 学习结束：9/2/2021 22:35\r\n",
    "# 学习时间：0h50min"
   ],
   "metadata": {}
  },
  {
   "cell_type": "markdown",
   "source": [],
   "metadata": {}
  }
 ],
 "metadata": {
  "orig_nbformat": 4,
  "language_info": {
   "name": "python",
   "version": "3.8.8",
   "mimetype": "text/x-python",
   "codemirror_mode": {
    "name": "ipython",
    "version": 3
   },
   "pygments_lexer": "ipython3",
   "nbconvert_exporter": "python",
   "file_extension": ".py"
  },
  "kernelspec": {
   "name": "python3",
   "display_name": "Python 3.8.8 64-bit ('base': conda)"
  },
  "interpreter": {
   "hash": "62e729f015afda20b57753da5826fe20237ed7610a5c708d9ea2e566e7000ae8"
  }
 },
 "nbformat": 4,
 "nbformat_minor": 2
}