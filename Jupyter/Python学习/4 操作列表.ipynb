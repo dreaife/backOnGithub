{
 "cells": [
  {
   "cell_type": "markdown",
   "source": [
    "# 4 操作列表\r\n",
    "*开始时间：8/31/2021 11:00*\r\n",
    "## 4.1 遍历列表"
   ],
   "metadata": {}
  },
  {
   "cell_type": "code",
   "execution_count": 37,
   "source": [
    "favo = ['hoshi','irotori','irosekai','akaitori','sakuramoyu','happylive']\r\n",
    "for myFav in favo:# 通过for循环实现list的遍历\r\n",
    "    print(myFav.title()+\",this is a good game!\")\r\n",
    "    if(myFav == \"irotori\"): print(\"shiku suki!\")# ！！！注意要在语句后面加：！！！\r\n",
    "print(\"\\nThank you,Favorite!\")"
   ],
   "outputs": [
    {
     "output_type": "stream",
     "name": "stdout",
     "text": [
      "Hoshi,this is a good game!\n",
      "Irotori,this is a good game!\n",
      "shiku suki!\n",
      "Irosekai,this is a good game!\n",
      "Akaitori,this is a good game!\n",
      "Sakuramoyu,this is a good game!\n",
      "Happylive,this is a good game!\n",
      "\n",
      "Thank you,Favorite!\n"
     ]
    }
   ],
   "metadata": {}
  },
  {
   "cell_type": "markdown",
   "source": [
    "## 4.2 注意缩进错误\r\n",
    "\r\n",
    "* **缩进对于循环 判断有影响，需注意**\r\n",
    "* **要注意对于只运行单次的语句，不要对其就行缩进，也会产生错误**\r\n",
    "* ***<font color = red>在循环语句跟判断语句后不要忘记“：”，也会产生错误</font>***"
   ],
   "metadata": {}
  },
  {
   "cell_type": "markdown",
   "source": [
    "## 4.3 创建数值列表"
   ],
   "metadata": {}
  },
  {
   "cell_type": "code",
   "execution_count": 16,
   "source": [
    "for i in range(1,5):# range()的区间为[1,5)不包含最后一位元素\r\n",
    "    print(i)\r\n",
    "\r\n",
    "nums = list(range(1,6))\r\n",
    "print(nums)"
   ],
   "outputs": [
    {
     "output_type": "stream",
     "name": "stdout",
     "text": [
      "1\n",
      "2\n",
      "3\n",
      "4\n",
      "[1, 2, 3, 4, 5]\n"
     ]
    }
   ],
   "metadata": {}
  },
  {
   "cell_type": "code",
   "execution_count": 17,
   "source": [
    "even_nums = list(range(2,11,2))\r\n",
    "print(even_nums)"
   ],
   "outputs": [
    {
     "output_type": "stream",
     "name": "stdout",
     "text": [
      "[2, 4, 6, 8, 10]\n"
     ]
    }
   ],
   "metadata": {}
  },
  {
   "cell_type": "code",
   "execution_count": 19,
   "source": [
    "even_nums = []\r\n",
    "for i in range(2,11,2):\r\n",
    "    even_nums.append(i**2)\r\n",
    "\r\n",
    "print(even_nums)"
   ],
   "outputs": [
    {
     "output_type": "stream",
     "name": "stdout",
     "text": [
      "[4, 16, 36, 64, 100]\n"
     ]
    }
   ],
   "metadata": {}
  },
  {
   "cell_type": "code",
   "execution_count": 23,
   "source": [
    "print(' ',min(nums),'\\n ',max(nums),'\\n',sum(nums),'\\n')\r\n"
   ],
   "outputs": [
    {
     "output_type": "stream",
     "name": "stdout",
     "text": [
      "  1 \n",
      "  5 \n",
      " 15 \n",
      "\n"
     ]
    }
   ],
   "metadata": {}
  },
  {
   "cell_type": "code",
   "execution_count": 28,
   "source": [
    "even_nums = [i**3 for i in range(2,11,2)]\r\n",
    "print(even_nums)"
   ],
   "outputs": [
    {
     "output_type": "stream",
     "name": "stdout",
     "text": [
      "[8, 64, 216, 512, 1000]\n"
     ]
    }
   ],
   "metadata": {}
  },
  {
   "cell_type": "code",
   "execution_count": 31,
   "source": [
    "#excise\r\n",
    "#lll = [i for i in range(1,10000001)]\r\n",
    "#print(lll)"
   ],
   "outputs": [],
   "metadata": {}
  },
  {
   "cell_type": "markdown",
   "source": [
    "## 4.4 使用列表的一部分"
   ],
   "metadata": {}
  },
  {
   "cell_type": "code",
   "execution_count": 33,
   "source": [
    "print(nums)\r\n",
    "print(nums[1:4])\r\n",
    "print(nums[:4])\r\n",
    "print(nums[1:])\r\n",
    "print(nums[:])\r\n",
    "\r\n",
    "print(nums[-3:])# 获取最后三位"
   ],
   "outputs": [
    {
     "output_type": "stream",
     "name": "stdout",
     "text": [
      "[1, 2, 3, 4, 5]\n",
      "[2, 3, 4]\n",
      "[1, 2, 3, 4]\n",
      "[2, 3, 4, 5]\n",
      "[1, 2, 3, 4, 5]\n"
     ]
    }
   ],
   "metadata": {}
  },
  {
   "cell_type": "code",
   "execution_count": 39,
   "source": [
    "for good in favo[:4]:\r\n",
    "    print(good)"
   ],
   "outputs": [
    {
     "output_type": "stream",
     "name": "stdout",
     "text": [
      "hoshi\n",
      "irotori\n",
      "irosekai\n",
      "akaitori\n"
     ]
    }
   ],
   "metadata": {}
  },
  {
   "cell_type": "code",
   "execution_count": 43,
   "source": [
    "#复制list\r\n",
    "new_favo = favo[:]\r\n",
    "\r\n",
    "print(favo)\r\n",
    "print(new_favo)\r\n",
    "\r\n",
    "new_favo.insert(2,\"shinky\")\r\n",
    "\r\n",
    "print(favo)\r\n",
    "print(new_favo)"
   ],
   "outputs": [
    {
     "output_type": "stream",
     "name": "stdout",
     "text": [
      "['hoshi', 'irotori', 'shinky', 'irosekai', 'akaitori', 'sakuramoyu', 'happylive']\n",
      "['hoshi', 'irotori', 'shinky', 'irosekai', 'akaitori', 'sakuramoyu', 'happylive']\n",
      "['hoshi', 'irotori', 'shinky', 'irosekai', 'akaitori', 'sakuramoyu', 'happylive']\n",
      "['hoshi', 'irotori', 'shinky', 'shinky', 'irosekai', 'akaitori', 'sakuramoyu', 'happylive']\n"
     ]
    }
   ],
   "metadata": {}
  },
  {
   "cell_type": "markdown",
   "source": [
    "**对于复制后的list操作，并没有影响元list，可以看出```new_favo = favo[:]```复制为深复制**\r\n",
    "\r\n",
    "**但当进行```new_favo = favo```操作时，对复制list的操作<font color =red>会影响原lsit</font>，说明该为浅复制，或者原list代称**\r\n",
    "\r\n",
    "## 4.5 元组"
   ],
   "metadata": {}
  },
  {
   "cell_type": "code",
   "execution_count": 48,
   "source": [
    "dimen = (100,50)\r\n",
    "#dimen[0] = 10 !!!不能修改元组数据!!!\r\n",
    "print(dimen[0])\r\n",
    "print(dimen[1])\r\n",
    "print(dimen)"
   ],
   "outputs": [
    {
     "output_type": "stream",
     "name": "stdout",
     "text": [
      "100\n",
      "50\n",
      "(100, 50)\n"
     ]
    }
   ],
   "metadata": {}
  },
  {
   "cell_type": "code",
   "execution_count": 50,
   "source": [
    "for di in dimen:\r\n",
    "    print(di)\r\n",
    "\r\n",
    "#可以修改整个元组\r\n",
    "dimen = (10,50)\r\n",
    "for di in dimen:\r\n",
    "    print(di)"
   ],
   "outputs": [
    {
     "output_type": "stream",
     "name": "stdout",
     "text": [
      "100\n",
      "50\n",
      "10\n",
      "50\n"
     ]
    }
   ],
   "metadata": {}
  },
  {
   "cell_type": "markdown",
   "source": [
    "## 4.6 代码格式\r\n",
    "*PEP 8*\r\n",
    "* 缩进四字节\r\n",
    "* 行长不超出72(80)字符\r\n",
    "* 空行分块\r\n",
    "* [PEP 8指南][1]\r\n",
    "\r\n",
    "\r\n",
    "[1]:https://python.org/dev/peps/pep-0008/"
   ],
   "metadata": {}
  },
  {
   "cell_type": "markdown",
   "source": [
    "## 结束时间：8/31/2021 12:12\r\n",
    "## 花费时间: 1h12min"
   ],
   "metadata": {}
  },
  {
   "cell_type": "markdown",
   "source": [],
   "metadata": {}
  }
 ],
 "metadata": {
  "orig_nbformat": 4,
  "language_info": {
   "name": "python",
   "version": "3.8.8",
   "mimetype": "text/x-python",
   "codemirror_mode": {
    "name": "ipython",
    "version": 3
   },
   "pygments_lexer": "ipython3",
   "nbconvert_exporter": "python",
   "file_extension": ".py"
  },
  "kernelspec": {
   "name": "python3",
   "display_name": "Python 3.8.8 64-bit ('base': conda)"
  },
  "interpreter": {
   "hash": "62e729f015afda20b57753da5826fe20237ed7610a5c708d9ea2e566e7000ae8"
  }
 },
 "nbformat": 4,
 "nbformat_minor": 2
}