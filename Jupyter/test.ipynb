{
 "cells": [
  {
   "cell_type": "code",
   "execution_count": 1,
   "source": [
    "print('hello world!')"
   ],
   "outputs": [
    {
     "output_type": "stream",
     "name": "stdout",
     "text": [
      "hello world!\n"
     ]
    }
   ],
   "metadata": {}
  },
  {
   "cell_type": "code",
   "execution_count": 2,
   "source": [
    "1+1"
   ],
   "outputs": [
    {
     "output_type": "execute_result",
     "data": {
      "text/plain": [
       "2"
      ]
     },
     "metadata": {},
     "execution_count": 2
    }
   ],
   "metadata": {}
  },
  {
   "cell_type": "code",
   "execution_count": 3,
   "source": [
    "print('\\n1+1')"
   ],
   "outputs": [
    {
     "output_type": "stream",
     "name": "stdout",
     "text": [
      "\n",
      "1+1\n"
     ]
    }
   ],
   "metadata": {}
  },
  {
   "cell_type": "code",
   "execution_count": 4,
   "source": [
    "## 引自 https://www.cnblogs.com/chenhuan001/p/8006017.html\r\n",
    "# 单引号(')\r\n",
    "print('I can print \" ')\r\n",
    "print('-\\t-\\\\-\\'-%-/-\\n') #测试转义字符,个人理解,除了\"不需要转义意外,其他情况和c中的字符串一致\r\n",
    "\r\n",
    "# 双引号(\")\r\n",
    "print(\"I can print ' \")\r\n",
    "print(\"-\\t-\\\\-\\'-%-/-\\n\") #同上,\r\n",
    "\r\n",
    "# 三单引号(''')\r\n",
    "print(''' I can print \"\"\" ''')\r\n",
    "print('''i\r\n",
    "love\r\n",
    "you''') #特殊功能,可以直接打印多行内容,而前面两种情况需要显示输入\\n才能换行\r\n",
    "print('''-\\t-\\\\-\\'-%-/-\\n''') #可以看出还是和普通的字符串类似,会转义.\r\n",
    "\r\n",
    "\r\n",
    "# 三双引号(\"\"\")\r\n",
    "print(\"\"\" I can print ''' \"\"\")\r\n",
    "print(\"\"\"i\r\n",
    "love\r\n",
    "you\"\"\") #和'''木有区别嘛\r\n",
    "print(\"\"\"-\\t-\\\\-\\'-%-/-\\n\"\"\") #和'''木有区别"
   ],
   "outputs": [
    {
     "output_type": "stream",
     "name": "stdout",
     "text": [
      "I can print \" \n",
      "-\t-\\-'-%-/-\n",
      "\n",
      "I can print ' \n",
      "-\t-\\-'-%-/-\n",
      "\n",
      " I can print \"\"\" \n",
      "i\n",
      "love\n",
      "you\n",
      "-\t-\\-'-%-/-\n",
      "\n",
      " I can print ''' \n",
      "i\n",
      "love\n",
      "you\n",
      "-\t-\\-'-%-/-\n",
      "\n"
     ]
    }
   ],
   "metadata": {}
  },
  {
   "cell_type": "markdown",
   "source": [
    "# test for markdown"
   ],
   "metadata": {}
  },
  {
   "cell_type": "markdown",
   "source": [
    "1. 单元一\n",
    "> - 第一步\n",
    "> - 第二步\n",
    "> - 第三步\n",
    "2. 单元二    \n",
    "> - 2. try\n",
    "3. try for other"
   ],
   "metadata": {}
  },
  {
   "cell_type": "markdown",
   "source": [
    "> 区块设计\n",
    ">> 第二步"
   ],
   "metadata": {}
  },
  {
   "cell_type": "markdown",
   "source": [
    "##  代码实验\n",
    "```\n",
    "name = \"shinku\"\n",
    "name+=' '\n",
    "print(name,'\\n')\n",
    "name=' '+name\n",
    "print(name)\n",
    "name.rstrip()\n",
    "```"
   ],
   "metadata": {}
  },
  {
   "cell_type": "markdown",
   "source": [
    "## 网站实验\n",
    "这是我的网站 [dreaife的休憩小栈](http://39.99.43.60/)\n",
    "\n",
    "**再试一下只粘贴网址**    \n",
    "<http://39.99.43.60/>\n",
    "\n",
    "*再粘一下谷歌网址试试*    \n",
    "[google][1]\n",
    "\n",
    "[1]: https://www.google.com/"
   ],
   "metadata": {}
  },
  {
   "cell_type": "markdown",
   "source": [
    "## 图片实验\r\n",
    "**跟网址有点像，不过前面记得加！，网址后面还能加个title**\r\n",
    "    \r\n",
    "![](https://raw.githubusercontent.com/dreaife/PictureOfDreaife/main/picture/Shinku.jpg)\r\n",
    "\r\n",
    "**~~orz 结果失败，等晚上再尝试一下吧(可能是jupyter的原因)（划掉）~~**\r\n",
    "\r\n",
    "**~~成功了！不过需要将图片直接拖动~~**\r\n",
    "\r\n",
    "**OK 解决了 让GitHub上点download的链接复制就行了orz**"
   ],
   "metadata": {}
  },
  {
   "cell_type": "markdown",
   "source": [
    "## 表格实验\n",
    "\n",
    "|第一列|第二列|第三列|\n",
    "|-|-|-|\n",
    "|1|2|3|\n",
    "|4|5|6|\n",
    "|7|8|9|"
   ],
   "metadata": {}
  },
  {
   "cell_type": "markdown",
   "source": [
    "$$\r\n",
    "\\mathbf{V}_1 \\times \\mathbf{V}_2 =  \\begin{vmatrix} \r\n",
    "\\mathbf{i} & \\mathbf{j} & \\mathbf{k} \\\\\r\n",
    "\\frac{\\partial X}{\\partial u} &  \\frac{\\partial Y}{\\partial u} & 0 \\\\\r\n",
    "\\frac{\\partial X}{\\partial v} &  \\frac{\\partial Y}{\\partial v} & 0 \\\\\r\n",
    "\\end{vmatrix}\r\n",
    "\r\n",
    "$$"
   ],
   "metadata": {}
  },
  {
   "cell_type": "code",
   "execution_count": null,
   "source": [],
   "outputs": [],
   "metadata": {}
  },
  {
   "cell_type": "code",
   "execution_count": null,
   "source": [],
   "outputs": [],
   "metadata": {}
  }
 ],
 "metadata": {
  "kernelspec": {
   "name": "python3",
   "display_name": "Python 3.8.8 64-bit ('base': conda)"
  },
  "language_info": {
   "codemirror_mode": {
    "name": "ipython",
    "version": 3
   },
   "file_extension": ".py",
   "mimetype": "text/x-python",
   "name": "python",
   "nbconvert_exporter": "python",
   "pygments_lexer": "ipython3",
   "version": "3.8.8"
  },
  "interpreter": {
   "hash": "62e729f015afda20b57753da5826fe20237ed7610a5c708d9ea2e566e7000ae8"
  }
 },
 "nbformat": 4,
 "nbformat_minor": 5
}