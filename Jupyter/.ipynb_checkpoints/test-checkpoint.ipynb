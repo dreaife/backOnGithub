{
 "cells": [
  {
   "cell_type": "code",
   "execution_count": 5,
   "id": "784979f4",
   "metadata": {},
   "outputs": [
    {
     "name": "stdout",
     "output_type": "stream",
     "text": [
      "hello world!\n"
     ]
    }
   ],
   "source": [
    "print('hello world!')"
   ]
  },
  {
   "cell_type": "code",
   "execution_count": null,
   "id": "e716dabf",
   "metadata": {},
   "outputs": [],
   "source": [
    "1+1"
   ]
  },
  {
   "cell_type": "code",
   "execution_count": 10,
   "id": "f40ff18b",
   "metadata": {},
   "outputs": [
    {
     "name": "stdout",
     "output_type": "stream",
     "text": [
      "\n",
      "1+1\n"
     ]
    }
   ],
   "source": [
    "print('\\n1+1')"
   ]
  },
  {
   "cell_type": "code",
   "execution_count": 11,
   "id": "56b4ba51",
   "metadata": {},
   "outputs": [
    {
     "name": "stdout",
     "output_type": "stream",
     "text": [
      "I can print \" \n",
      "-\t-\\-'-%-/-\n",
      "\n",
      "I can print ' \n",
      "-\t-\\-'-%-/-\n",
      "\n",
      " I can print \"\"\" \n",
      "i\n",
      "love\n",
      "you\n",
      "-\t-\\-'-%-/-\n",
      "\n",
      " I can print ''' \n",
      "i\n",
      "love\n",
      "you\n",
      "-\t-\\-'-%-/-\n",
      "\n"
     ]
    }
   ],
   "source": [
    "## 引自 https://www.cnblogs.com/chenhuan001/p/8006017.html\n",
    "# 单引号(')\n",
    "print('I can print \" ')\n",
    "print('-\\t-\\\\-\\'-%-/-\\n') #测试转义字符,个人理解,除了\"不需要转义意外,其他情况和c中的字符串一致\n",
    "\n",
    "# 双引号(\")\n",
    "print(\"I can print ' \")\n",
    "print(\"-\\t-\\\\-\\'-%-/-\\n\") #同上,\n",
    "\n",
    "# 三单引号(''')\n",
    "print(''' I can print \"\"\" ''')\n",
    "print('''i\n",
    "love\n",
    "you''') #特殊功能,可以直接打印多行内容,而前面两种情况需要显示输入\\n才能换行\n",
    "print('''-\\t-\\\\-\\'-%-/-\\n''') #可以看出还是和普通的字符串类似,会转义.\n",
    "\n",
    "\n",
    "# 三双引号(\"\"\")\n",
    "print(\"\"\" I can print ''' \"\"\")\n",
    "print(\"\"\"i\n",
    "love\n",
    "you\"\"\") #和'''木有区别嘛\n",
    "print(\"\"\"-\\t-\\\\-\\'-%-/-\\n\"\"\") #和'''木有区别"
   ]
  },
  {
   "cell_type": "markdown",
   "id": "aab7e808",
   "metadata": {},
   "source": [
    "# test for markdown"
   ]
  },
  {
   "cell_type": "markdown",
   "id": "5469e983",
   "metadata": {},
   "source": [
    "1. 单元一\n",
    "> - 第一步\n",
    "> - 第二步\n",
    "> - 第三步\n",
    "2. 单元二    \n",
    "> - 2. try\n",
    "3. try for other"
   ]
  },
  {
   "cell_type": "markdown",
   "id": "03aa017a",
   "metadata": {},
   "source": [
    "> 区块设计\n",
    ">> 第二步"
   ]
  },
  {
   "cell_type": "markdown",
   "id": "b18048c1",
   "metadata": {},
   "source": [
    "##  代码实验\n",
    "```\n",
    "name = \"shinku\"\n",
    "name+=' '\n",
    "print(name,'\\n')\n",
    "name=' '+name\n",
    "print(name)\n",
    "name.rstrip()\n",
    "```"
   ]
  },
  {
   "cell_type": "markdown",
   "id": "641d60ab",
   "metadata": {},
   "source": [
    "## 网站实验\n",
    "这是我的网站 [dreaife的休憩小栈](http://39.99.43.60/)\n",
    "\n",
    "**再试一下只粘贴网址**    \n",
    "<http://39.99.43.60/>\n",
    "\n",
    "*再粘一下谷歌网址试试*    \n",
    "[google][1]\n",
    "\n",
    "[1]: https://www.google.com/"
   ]
  },
  {
   "cell_type": "markdown",
   "id": "33982ef6",
   "metadata": {},
   "source": [
    "## 图片实验\n",
    "**跟网址有点像，不过前面记得加！，网址后面还能加个title**\n",
    "    \n",
    "![Shinku.jpg](https://raw.githubusercontent.com/dreaife/backOnGithub/main/picture/Shinku.jpg?token=ARNBM5G53IWS6GE6AGNDLH3BFSPIM \"shinku suki!\")\n",
    "\n",
    "**~~orz 结果失败，等晚上再尝试一下吧(可能是jupyter的原因)（划掉）~~**\n",
    "\n",
    "**~~成功了！不过需要将图片直接拖动~~**\n",
    "\n",
    "**OK 解决了 让GitHub上点download的链接复制就行了orz**"
   ]
  },
  {
   "cell_type": "markdown",
   "id": "012a1ad4",
   "metadata": {},
   "source": [
    "## 表格实验\n",
    "\n",
    "|第一列|第二列|第三列|\n",
    "|-|-|-|\n",
    "|1|2|3|\n",
    "|4|5|6|\n",
    "|7|8|9|"
   ]
  },
  {
   "cell_type": "markdown",
   "id": "140d632b",
   "metadata": {},
   "source": [
    "$$\n",
    "\\mathbf{V}_1 \\times \\mathbf{V}_2 =  \\begin{vmatrix} \n",
    "\\mathbf{i} & \\mathbf{j} & \\mathbf{k} \\\\\n",
    "\\frac{\\partial X}{\\partial u} &  \\frac{\\partial Y}{\\partial u} & 0 \\\\\n",
    "\\frac{\\partial X}{\\partial v} &  \\frac{\\partial Y}{\\partial v} & 0 \\\\\n",
    "\\end{vmatrix}\n",
    "${$tep1}{\\style{visibility:hidden}{(x+1)(x+1)}}\n",
    "$$"
   ]
  },
  {
   "cell_type": "code",
   "execution_count": null,
   "id": "04c643d0",
   "metadata": {},
   "outputs": [],
   "source": []
  }
 ],
 "metadata": {
  "kernelspec": {
   "display_name": "Python 3",
   "language": "python",
   "name": "python3"
  },
  "language_info": {
   "codemirror_mode": {
    "name": "ipython",
    "version": 3
   },
   "file_extension": ".py",
   "mimetype": "text/x-python",
   "name": "python",
   "nbconvert_exporter": "python",
   "pygments_lexer": "ipython3",
   "version": "3.8.8"
  }
 },
 "nbformat": 4,
 "nbformat_minor": 5
}
